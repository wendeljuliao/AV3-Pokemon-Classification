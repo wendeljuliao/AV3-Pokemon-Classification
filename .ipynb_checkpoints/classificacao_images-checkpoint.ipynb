{
 "cells": [
  {
   "cell_type": "markdown",
   "metadata": {},
   "source": [
    "## IMPORTANTO BIBLIOTECAS"
   ]
  },
  {
   "cell_type": "code",
   "execution_count": 1,
   "metadata": {},
   "outputs": [],
   "source": [
    "from sklearn.manifold import TSNE\n",
    "from sklearn.model_selection import train_test_split, cross_val_score, cross_val_predict\n",
    "from sklearn.metrics import confusion_matrix, ConfusionMatrixDisplay\n",
    "\n",
    "from tensorflow.keras.preprocessing import image\n",
    "from tensorflow import keras\n",
    "\n",
    "import tensorflow as tf\n",
    "import matplotlib.pyplot as plt\n",
    "import pandas as pd\n",
    "import numpy as np\n",
    "import seaborn as sns\n",
    "\n",
    "import os"
   ]
  },
  {
   "cell_type": "code",
   "execution_count": 2,
   "metadata": {},
   "outputs": [
    {
     "name": "stdout",
     "output_type": "stream",
     "text": [
      "tf version:  2.6.0\n",
      "num gpus:  1\n"
     ]
    },
    {
     "name": "stderr",
     "output_type": "stream",
     "text": [
      "2023-05-30 20:15:08.156101: I tensorflow/stream_executor/cuda/cuda_gpu_executor.cc:937] successful NUMA node read from SysFS had negative value (-1), but there must be at least one NUMA node, so returning NUMA node zero\n",
      "2023-05-30 20:15:08.180843: I tensorflow/stream_executor/cuda/cuda_gpu_executor.cc:937] successful NUMA node read from SysFS had negative value (-1), but there must be at least one NUMA node, so returning NUMA node zero\n",
      "2023-05-30 20:15:08.180984: I tensorflow/stream_executor/cuda/cuda_gpu_executor.cc:937] successful NUMA node read from SysFS had negative value (-1), but there must be at least one NUMA node, so returning NUMA node zero\n"
     ]
    }
   ],
   "source": [
    "# DESCOMENTAR PARA FORÇAR A RODAR EM CPU\n",
    "\n",
    "# os.environ['CUDA_VISIBLE_DEVICES'] = '-1'\n",
    "\n",
    "physical_devices = tf.config.experimental.list_physical_devices('GPU')\n",
    "\n",
    "if len(physical_devices) > 0:\n",
    "   tf.config.experimental.set_memory_growth(physical_devices[0], True) #necessário para a CNN\n",
    "\n",
    "print('tf version: ',tf.__version__)\n",
    "print ('num gpus: ',len(physical_devices))"
   ]
  },
  {
   "cell_type": "markdown",
   "metadata": {},
   "source": [
    "## PARÂMETROS"
   ]
  },
  {
   "cell_type": "code",
   "execution_count": 3,
   "metadata": {},
   "outputs": [],
   "source": [
    "percentege_test_size = 0.2\n",
    "undersampling_size = 1400 # -1 para não fazer undersampling\n",
    "\n",
    "# fig preprocessing\n",
    "largura = 100\n",
    "altura = 100\n",
    "modo_de_cor = 'rgb' # rgb, grayscale, rgba\n",
    "# fig preprocessing\n",
    "\n",
    "# diretorio = '../dados classificacao imagens/star-wars/'\n",
    "# diretorio = '../dados classificacao imagens/animais-kaggle/'\n",
    "# diretorio = '../dados classificacao imagens/dataset-documentos-full/'\n",
    "diretorio = '../dados classificacao imagens/pneumonia/'\n",
    "# diretorio = '/home/carlos/Downloads/dados-docs/'"
   ]
  },
  {
   "cell_type": "markdown",
   "metadata": {},
   "source": [
    "### CARREGANDO DATASET"
   ]
  },
  {
   "cell_type": "code",
   "execution_count": 4,
   "metadata": {},
   "outputs": [
    {
     "data": {
      "text/html": [
       "<div>\n",
       "<style scoped>\n",
       "    .dataframe tbody tr th:only-of-type {\n",
       "        vertical-align: middle;\n",
       "    }\n",
       "\n",
       "    .dataframe tbody tr th {\n",
       "        vertical-align: top;\n",
       "    }\n",
       "\n",
       "    .dataframe thead th {\n",
       "        text-align: right;\n",
       "    }\n",
       "</style>\n",
       "<table border=\"1\" class=\"dataframe\">\n",
       "  <thead>\n",
       "    <tr style=\"text-align: right;\">\n",
       "      <th></th>\n",
       "      <th>image</th>\n",
       "      <th>target</th>\n",
       "    </tr>\n",
       "  </thead>\n",
       "  <tbody>\n",
       "    <tr>\n",
       "      <th>0</th>\n",
       "      <td>../dados classificacao imagens/pneumonia/PNEUM...</td>\n",
       "      <td>1</td>\n",
       "    </tr>\n",
       "    <tr>\n",
       "      <th>1</th>\n",
       "      <td>../dados classificacao imagens/pneumonia/PNEUM...</td>\n",
       "      <td>1</td>\n",
       "    </tr>\n",
       "    <tr>\n",
       "      <th>2</th>\n",
       "      <td>../dados classificacao imagens/pneumonia/NORMA...</td>\n",
       "      <td>0</td>\n",
       "    </tr>\n",
       "    <tr>\n",
       "      <th>3</th>\n",
       "      <td>../dados classificacao imagens/pneumonia/NORMA...</td>\n",
       "      <td>0</td>\n",
       "    </tr>\n",
       "    <tr>\n",
       "      <th>4</th>\n",
       "      <td>../dados classificacao imagens/pneumonia/PNEUM...</td>\n",
       "      <td>1</td>\n",
       "    </tr>\n",
       "    <tr>\n",
       "      <th>...</th>\n",
       "      <td>...</td>\n",
       "      <td>...</td>\n",
       "    </tr>\n",
       "    <tr>\n",
       "      <th>2736</th>\n",
       "      <td>../dados classificacao imagens/pneumonia/PNEUM...</td>\n",
       "      <td>1</td>\n",
       "    </tr>\n",
       "    <tr>\n",
       "      <th>2737</th>\n",
       "      <td>../dados classificacao imagens/pneumonia/PNEUM...</td>\n",
       "      <td>1</td>\n",
       "    </tr>\n",
       "    <tr>\n",
       "      <th>2738</th>\n",
       "      <td>../dados classificacao imagens/pneumonia/PNEUM...</td>\n",
       "      <td>1</td>\n",
       "    </tr>\n",
       "    <tr>\n",
       "      <th>2739</th>\n",
       "      <td>../dados classificacao imagens/pneumonia/NORMA...</td>\n",
       "      <td>0</td>\n",
       "    </tr>\n",
       "    <tr>\n",
       "      <th>2740</th>\n",
       "      <td>../dados classificacao imagens/pneumonia/PNEUM...</td>\n",
       "      <td>1</td>\n",
       "    </tr>\n",
       "  </tbody>\n",
       "</table>\n",
       "<p>2741 rows × 2 columns</p>\n",
       "</div>"
      ],
      "text/plain": [
       "                                                  image  target\n",
       "0     ../dados classificacao imagens/pneumonia/PNEUM...       1\n",
       "1     ../dados classificacao imagens/pneumonia/PNEUM...       1\n",
       "2     ../dados classificacao imagens/pneumonia/NORMA...       0\n",
       "3     ../dados classificacao imagens/pneumonia/NORMA...       0\n",
       "4     ../dados classificacao imagens/pneumonia/PNEUM...       1\n",
       "...                                                 ...     ...\n",
       "2736  ../dados classificacao imagens/pneumonia/PNEUM...       1\n",
       "2737  ../dados classificacao imagens/pneumonia/PNEUM...       1\n",
       "2738  ../dados classificacao imagens/pneumonia/PNEUM...       1\n",
       "2739  ../dados classificacao imagens/pneumonia/NORMA...       0\n",
       "2740  ../dados classificacao imagens/pneumonia/PNEUM...       1\n",
       "\n",
       "[2741 rows x 2 columns]"
      ]
     },
     "execution_count": 4,
     "metadata": {},
     "output_type": "execute_result"
    }
   ],
   "source": [
    "targets = [x[0].replace(diretorio,'') for x in os.walk(diretorio)]\n",
    "\n",
    "targets = targets[1:len(targets)] # exclui o primeiro da lista pq é o próprio diretório\n",
    "\n",
    "dados = []\n",
    "\n",
    "class_to_int = {}\n",
    "\n",
    "k = 0\n",
    "\n",
    "for classe in targets:\n",
    "    imagens = os.listdir(diretorio+classe)\n",
    "    i = 0\n",
    "    class_to_int[classe] = k\n",
    "    k+=1\n",
    "    for img in imagens:\n",
    "        i+=1\n",
    "        \n",
    "        if (not '.txt' in img) and (not 'segmentation' in img) and (not 'desktop.ini' in img):\n",
    "            dados.append([diretorio+classe+'/'+img,class_to_int[classe]])\n",
    "        \n",
    "        if(i == undersampling_size and undersampling_size != -1):\n",
    "            break\n",
    "\n",
    "dados = np.array(dados)\n",
    "\n",
    "np.random.shuffle(dados)\n",
    "            \n",
    "df_dados = pd.DataFrame(dados,columns=['image','target'])\n",
    "\n",
    "df_dados['target'] = df_dados['target'].astype('int64', copy=False)\n",
    "\n",
    "df_dados"
   ]
  },
  {
   "cell_type": "code",
   "execution_count": 5,
   "metadata": {},
   "outputs": [
    {
     "data": {
      "text/plain": [
       "1    1400\n",
       "0    1341\n",
       "Name: target, dtype: int64"
      ]
     },
     "execution_count": 5,
     "metadata": {},
     "output_type": "execute_result"
    }
   ],
   "source": [
    "df_dados['target'].value_counts()"
   ]
  },
  {
   "cell_type": "code",
   "execution_count": null,
   "metadata": {},
   "outputs": [],
   "source": []
  },
  {
   "cell_type": "markdown",
   "metadata": {},
   "source": [
    "## PREPARANDO DADOS"
   ]
  },
  {
   "cell_type": "code",
   "execution_count": 6,
   "metadata": {},
   "outputs": [],
   "source": [
    "def embedding(img_path,largura,altura,modo_de_cor):\n",
    "    img = image.load_img(img_path, target_size=(largura, altura),color_mode= modo_de_cor)\n",
    "    embed = image.img_to_array(img)\n",
    "\n",
    "    return embed"
   ]
  },
  {
   "cell_type": "code",
   "execution_count": null,
   "metadata": {},
   "outputs": [],
   "source": []
  },
  {
   "cell_type": "code",
   "execution_count": 7,
   "metadata": {},
   "outputs": [],
   "source": [
    "y_full = df_dados['target'].array.to_numpy()\n",
    "\n",
    "X_full  = []\n",
    "for x in dados:\n",
    "    X_full.append(embedding(x[0],largura,altura,modo_de_cor))\n",
    "\n",
    "X_full = np.array(X_full)"
   ]
  },
  {
   "cell_type": "code",
   "execution_count": null,
   "metadata": {},
   "outputs": [],
   "source": []
  },
  {
   "cell_type": "code",
   "execution_count": 8,
   "metadata": {},
   "outputs": [],
   "source": [
    "model_test_size = int(len(y_full) * percentege_test_size)\n",
    "\n",
    "X_test, X_train = X_full[:model_test_size] / 255.0, X_full[model_test_size:] / 255.0\n",
    "y_test, y_train = y_full[:model_test_size], y_full[model_test_size:]"
   ]
  },
  {
   "cell_type": "code",
   "execution_count": 9,
   "metadata": {},
   "outputs": [
    {
     "data": {
      "text/plain": [
       "(2193, 100, 100, 3)"
      ]
     },
     "execution_count": 9,
     "metadata": {},
     "output_type": "execute_result"
    }
   ],
   "source": [
    "X_train.shape"
   ]
  },
  {
   "cell_type": "code",
   "execution_count": 10,
   "metadata": {},
   "outputs": [],
   "source": [
    "# canais_cor = 1\n",
    "\n",
    "# if(modo_de_cor == 'rgb'):\n",
    "#     canais_cor = 3\n",
    "\n",
    "# if(modo_de_cor == 'rgba'):\n",
    "#     canais_cor = 4\n",
    "\n",
    "# features_array = X_full.reshape(len(X_full),largura*altura*canais_cor)\n",
    "\n",
    "# model = TSNE(n_components=2, learning_rate='auto', init='random', perplexity=15)\n",
    "# array_red = model.fit_transform(features_array) \n",
    "\n",
    "# df_tsne = pd.DataFrame(array_red)\n",
    "\n",
    "# df_tsne['target'] = y_full\n",
    "\n",
    "# plt.rcParams['figure.figsize'] = [15, 10]\n",
    "\n",
    "# sns.scatterplot(data=df_tsne, x=df_tsne[0], y=df_tsne[1], hue=df_tsne['target'], palette=\"colorblind\")\n",
    "\n",
    "# plt.show()"
   ]
  },
  {
   "cell_type": "markdown",
   "metadata": {},
   "source": [
    "## TREINANDO E VALIDANDO O MODELO"
   ]
  },
  {
   "cell_type": "code",
   "execution_count": 11,
   "metadata": {},
   "outputs": [
    {
     "name": "stderr",
     "output_type": "stream",
     "text": [
      "2023-05-30 20:15:32.653145: I tensorflow/core/platform/cpu_feature_guard.cc:142] This TensorFlow binary is optimized with oneAPI Deep Neural Network Library (oneDNN) to use the following CPU instructions in performance-critical operations:  AVX2 FMA\n",
      "To enable them in other operations, rebuild TensorFlow with the appropriate compiler flags.\n",
      "2023-05-30 20:15:32.653788: I tensorflow/stream_executor/cuda/cuda_gpu_executor.cc:937] successful NUMA node read from SysFS had negative value (-1), but there must be at least one NUMA node, so returning NUMA node zero\n",
      "2023-05-30 20:15:32.653959: I tensorflow/stream_executor/cuda/cuda_gpu_executor.cc:937] successful NUMA node read from SysFS had negative value (-1), but there must be at least one NUMA node, so returning NUMA node zero\n",
      "2023-05-30 20:15:32.654067: I tensorflow/stream_executor/cuda/cuda_gpu_executor.cc:937] successful NUMA node read from SysFS had negative value (-1), but there must be at least one NUMA node, so returning NUMA node zero\n",
      "2023-05-30 20:15:32.984243: I tensorflow/stream_executor/cuda/cuda_gpu_executor.cc:937] successful NUMA node read from SysFS had negative value (-1), but there must be at least one NUMA node, so returning NUMA node zero\n",
      "2023-05-30 20:15:32.984410: I tensorflow/stream_executor/cuda/cuda_gpu_executor.cc:937] successful NUMA node read from SysFS had negative value (-1), but there must be at least one NUMA node, so returning NUMA node zero\n",
      "2023-05-30 20:15:32.984518: I tensorflow/stream_executor/cuda/cuda_gpu_executor.cc:937] successful NUMA node read from SysFS had negative value (-1), but there must be at least one NUMA node, so returning NUMA node zero\n",
      "2023-05-30 20:15:32.984603: I tensorflow/core/common_runtime/gpu/gpu_device.cc:1510] Created device /job:localhost/replica:0/task:0/device:GPU:0 with 4350 MB memory:  -> device: 0, name: NVIDIA GeForce RTX 2060, pci bus id: 0000:01:00.0, compute capability: 7.5\n"
     ]
    }
   ],
   "source": [
    "shape_entrada = (largura,altura,1)\n",
    "\n",
    "if(modo_de_cor == 'rgb'):\n",
    "    shape_entrada = (largura,altura,3)\n",
    "\n",
    "if(modo_de_cor == 'rgba'):\n",
    "    shape_entrada = (largura,altura,4)\n",
    "\n",
    "model = keras.models.Sequential([\n",
    "    \n",
    "########## Conv\n",
    "    \n",
    "keras.layers.InputLayer(input_shape=shape_entrada),\n",
    "keras.layers.Conv2D(25, (5, 5), activation='relu', strides=(1, 1), padding='same',use_bias=True),\n",
    "keras.layers.MaxPool2D(pool_size=(2, 2), padding='same'),\n",
    "keras.layers.Conv2D(50, (5, 5), activation='relu', strides=(2, 2), padding='same'),\n",
    "keras.layers.MaxPool2D(pool_size=(2, 2), padding='same'),\n",
    "keras.layers.BatchNormalization(),\n",
    "keras.layers.Conv2D(75, (3, 3), activation='relu', strides=(2, 2), padding='same'),\n",
    "keras.layers.MaxPool2D(pool_size=(2, 2), padding='valid'),\n",
    "keras.layers.BatchNormalization(),\n",
    "# keras.layers.Conv2D(90, (2, 2), activation='relu', strides=(2, 2), padding='same'),\n",
    "# keras.layers.MaxPool2D(pool_size=(2, 2), padding='valid'),\n",
    "# keras.layers.BatchNormalization(),\n",
    "keras.layers.Flatten(),\n",
    "keras.layers.Dense(units=100, activation='relu'),\n",
    "keras.layers.Dense(units=50, activation='relu'),\n",
    "keras.layers.Dropout(0.1),\n",
    "\n",
    "    \n",
    "keras.layers.Dense(len(np.unique(y_train)), activation=\"softmax\")\n",
    "])"
   ]
  },
  {
   "cell_type": "code",
   "execution_count": 12,
   "metadata": {},
   "outputs": [
    {
     "name": "stdout",
     "output_type": "stream",
     "text": [
      "Model: \"sequential\"\n",
      "_________________________________________________________________\n",
      "Layer (type)                 Output Shape              Param #   \n",
      "=================================================================\n",
      "conv2d (Conv2D)              (None, 100, 100, 25)      1900      \n",
      "_________________________________________________________________\n",
      "max_pooling2d (MaxPooling2D) (None, 50, 50, 25)        0         \n",
      "_________________________________________________________________\n",
      "conv2d_1 (Conv2D)            (None, 25, 25, 50)        31300     \n",
      "_________________________________________________________________\n",
      "max_pooling2d_1 (MaxPooling2 (None, 13, 13, 50)        0         \n",
      "_________________________________________________________________\n",
      "batch_normalization (BatchNo (None, 13, 13, 50)        200       \n",
      "_________________________________________________________________\n",
      "conv2d_2 (Conv2D)            (None, 7, 7, 75)          33825     \n",
      "_________________________________________________________________\n",
      "max_pooling2d_2 (MaxPooling2 (None, 3, 3, 75)          0         \n",
      "_________________________________________________________________\n",
      "batch_normalization_1 (Batch (None, 3, 3, 75)          300       \n",
      "_________________________________________________________________\n",
      "flatten (Flatten)            (None, 675)               0         \n",
      "_________________________________________________________________\n",
      "dense (Dense)                (None, 100)               67600     \n",
      "_________________________________________________________________\n",
      "dense_1 (Dense)              (None, 50)                5050      \n",
      "_________________________________________________________________\n",
      "dropout (Dropout)            (None, 50)                0         \n",
      "_________________________________________________________________\n",
      "dense_2 (Dense)              (None, 2)                 102       \n",
      "=================================================================\n",
      "Total params: 140,277\n",
      "Trainable params: 140,027\n",
      "Non-trainable params: 250\n",
      "_________________________________________________________________\n"
     ]
    }
   ],
   "source": [
    "model.summary()"
   ]
  },
  {
   "cell_type": "code",
   "execution_count": 13,
   "metadata": {},
   "outputs": [],
   "source": [
    "model.compile(loss=\"sparse_categorical_crossentropy\",\n",
    "optimizer=\"adam\",\n",
    "metrics=[\"accuracy\"])"
   ]
  },
  {
   "cell_type": "code",
   "execution_count": null,
   "metadata": {},
   "outputs": [],
   "source": []
  },
  {
   "cell_type": "code",
   "execution_count": 14,
   "metadata": {},
   "outputs": [
    {
     "name": "stderr",
     "output_type": "stream",
     "text": [
      "2023-05-30 20:15:33.302766: I tensorflow/compiler/mlir/mlir_graph_optimization_pass.cc:185] None of the MLIR Optimization Passes are enabled (registered 2)\n"
     ]
    },
    {
     "name": "stdout",
     "output_type": "stream",
     "text": [
      "Epoch 1/500\n"
     ]
    },
    {
     "name": "stderr",
     "output_type": "stream",
     "text": [
      "2023-05-30 20:15:34.204672: I tensorflow/stream_executor/cuda/cuda_dnn.cc:369] Loaded cuDNN version 8401\n"
     ]
    },
    {
     "name": "stdout",
     "output_type": "stream",
     "text": [
      "66/66 [==============================] - 2s 11ms/step - loss: 0.2517 - accuracy: 0.8968 - val_loss: 0.4843 - val_accuracy: 0.7909\n",
      "Epoch 2/500\n",
      "66/66 [==============================] - 1s 8ms/step - loss: 0.1310 - accuracy: 0.9501 - val_loss: 2.0815 - val_accuracy: 0.4818\n",
      "Epoch 3/500\n",
      "66/66 [==============================] - 1s 8ms/step - loss: 0.0996 - accuracy: 0.9645 - val_loss: 0.3546 - val_accuracy: 0.8364\n",
      "Epoch 4/500\n",
      "66/66 [==============================] - 1s 8ms/step - loss: 0.0975 - accuracy: 0.9659 - val_loss: 0.2781 - val_accuracy: 0.9091\n",
      "Epoch 5/500\n",
      "66/66 [==============================] - 1s 8ms/step - loss: 0.0700 - accuracy: 0.9746 - val_loss: 0.2629 - val_accuracy: 0.8818\n",
      "Epoch 6/500\n",
      "66/66 [==============================] - 1s 8ms/step - loss: 0.0619 - accuracy: 0.9770 - val_loss: 1.2269 - val_accuracy: 0.5636\n",
      "Epoch 7/500\n",
      "66/66 [==============================] - 1s 8ms/step - loss: 0.0555 - accuracy: 0.9808 - val_loss: 0.7017 - val_accuracy: 0.7455\n",
      "Epoch 8/500\n",
      "66/66 [==============================] - 1s 8ms/step - loss: 0.0236 - accuracy: 0.9933 - val_loss: 0.3752 - val_accuracy: 0.9273\n",
      "Epoch 9/500\n",
      "66/66 [==============================] - 1s 8ms/step - loss: 0.0220 - accuracy: 0.9914 - val_loss: 0.0855 - val_accuracy: 0.9545\n",
      "Epoch 10/500\n",
      "66/66 [==============================] - 1s 8ms/step - loss: 0.0233 - accuracy: 0.9904 - val_loss: 0.3702 - val_accuracy: 0.9000\n",
      "Epoch 11/500\n",
      "66/66 [==============================] - 1s 8ms/step - loss: 0.0161 - accuracy: 0.9952 - val_loss: 0.2271 - val_accuracy: 0.9364\n",
      "Epoch 12/500\n",
      "66/66 [==============================] - 1s 8ms/step - loss: 0.0114 - accuracy: 0.9962 - val_loss: 0.2050 - val_accuracy: 0.9455\n",
      "Epoch 13/500\n",
      "66/66 [==============================] - 1s 8ms/step - loss: 0.0252 - accuracy: 0.9904 - val_loss: 0.1795 - val_accuracy: 0.9455\n",
      "Epoch 14/500\n",
      "66/66 [==============================] - 1s 8ms/step - loss: 0.0363 - accuracy: 0.9870 - val_loss: 0.2586 - val_accuracy: 0.9364\n",
      "Epoch 15/500\n",
      "66/66 [==============================] - 1s 8ms/step - loss: 0.0242 - accuracy: 0.9923 - val_loss: 0.2511 - val_accuracy: 0.9273\n",
      "Epoch 16/500\n",
      "66/66 [==============================] - 1s 8ms/step - loss: 0.0426 - accuracy: 0.9784 - val_loss: 1.9571 - val_accuracy: 0.6182\n",
      "\n",
      "Epoch 00016: ReduceLROnPlateau reducing learning rate to 0.00010000000474974513.\n",
      "Epoch 17/500\n",
      "66/66 [==============================] - 1s 8ms/step - loss: 0.0153 - accuracy: 0.9966 - val_loss: 0.4021 - val_accuracy: 0.9091\n",
      "Epoch 18/500\n",
      "66/66 [==============================] - 1s 8ms/step - loss: 0.0060 - accuracy: 0.9990 - val_loss: 0.2412 - val_accuracy: 0.9273\n",
      "Epoch 19/500\n",
      "66/66 [==============================] - 1s 8ms/step - loss: 0.0060 - accuracy: 0.9990 - val_loss: 0.2181 - val_accuracy: 0.9364\n",
      "Epoch 20/500\n",
      "66/66 [==============================] - 1s 8ms/step - loss: 0.0046 - accuracy: 0.9995 - val_loss: 0.2035 - val_accuracy: 0.9455\n",
      "Epoch 21/500\n",
      "66/66 [==============================] - 1s 8ms/step - loss: 0.0028 - accuracy: 1.0000 - val_loss: 0.1926 - val_accuracy: 0.9455\n",
      "Epoch 22/500\n",
      "66/66 [==============================] - 1s 8ms/step - loss: 0.0023 - accuracy: 1.0000 - val_loss: 0.1867 - val_accuracy: 0.9636\n",
      "Epoch 23/500\n",
      "66/66 [==============================] - 1s 8ms/step - loss: 0.0024 - accuracy: 1.0000 - val_loss: 0.1903 - val_accuracy: 0.9545\n",
      "Epoch 24/500\n",
      "66/66 [==============================] - 1s 8ms/step - loss: 0.0025 - accuracy: 0.9995 - val_loss: 0.2102 - val_accuracy: 0.9545\n",
      "Epoch 25/500\n",
      "66/66 [==============================] - 1s 8ms/step - loss: 0.0017 - accuracy: 1.0000 - val_loss: 0.1822 - val_accuracy: 0.9545\n",
      "Epoch 26/500\n",
      "66/66 [==============================] - 1s 8ms/step - loss: 0.0013 - accuracy: 1.0000 - val_loss: 0.1700 - val_accuracy: 0.9636\n",
      "Epoch 27/500\n",
      "66/66 [==============================] - 1s 8ms/step - loss: 0.0015 - accuracy: 1.0000 - val_loss: 0.1650 - val_accuracy: 0.9636\n",
      "Epoch 28/500\n",
      "66/66 [==============================] - 1s 8ms/step - loss: 0.0012 - accuracy: 1.0000 - val_loss: 0.1841 - val_accuracy: 0.9636\n",
      "Epoch 29/500\n",
      "66/66 [==============================] - 1s 8ms/step - loss: 0.0011 - accuracy: 1.0000 - val_loss: 0.1901 - val_accuracy: 0.9636\n",
      "\n",
      "Epoch 00029: ReduceLROnPlateau reducing learning rate to 1.0000000474974514e-05.\n",
      "Epoch 30/500\n",
      "66/66 [==============================] - 1s 8ms/step - loss: 0.0011 - accuracy: 1.0000 - val_loss: 0.1972 - val_accuracy: 0.9636\n",
      "Epoch 31/500\n",
      "66/66 [==============================] - 1s 8ms/step - loss: 7.4830e-04 - accuracy: 1.0000 - val_loss: 0.2016 - val_accuracy: 0.9545\n",
      "Epoch 32/500\n",
      "66/66 [==============================] - 1s 8ms/step - loss: 0.0012 - accuracy: 1.0000 - val_loss: 0.1989 - val_accuracy: 0.9636\n",
      "Epoch 33/500\n",
      "66/66 [==============================] - 1s 8ms/step - loss: 7.0707e-04 - accuracy: 1.0000 - val_loss: 0.2021 - val_accuracy: 0.9636\n",
      "Epoch 34/500\n",
      "66/66 [==============================] - 1s 8ms/step - loss: 7.5192e-04 - accuracy: 1.0000 - val_loss: 0.2029 - val_accuracy: 0.9545\n",
      "Epoch 35/500\n",
      "66/66 [==============================] - 1s 8ms/step - loss: 9.5793e-04 - accuracy: 1.0000 - val_loss: 0.2045 - val_accuracy: 0.9545\n",
      "Epoch 36/500\n",
      "66/66 [==============================] - 1s 8ms/step - loss: 7.8764e-04 - accuracy: 1.0000 - val_loss: 0.2040 - val_accuracy: 0.9545\n",
      "\n",
      "Epoch 00036: ReduceLROnPlateau reducing learning rate to 1.0000000656873453e-06.\n",
      "Epoch 37/500\n",
      "66/66 [==============================] - 1s 8ms/step - loss: 8.1881e-04 - accuracy: 1.0000 - val_loss: 0.2044 - val_accuracy: 0.9545\n",
      "Epoch 38/500\n",
      "66/66 [==============================] - 1s 8ms/step - loss: 0.0010 - accuracy: 1.0000 - val_loss: 0.2047 - val_accuracy: 0.9545\n",
      "Epoch 39/500\n",
      "66/66 [==============================] - 1s 8ms/step - loss: 0.0010 - accuracy: 1.0000 - val_loss: 0.2049 - val_accuracy: 0.9545\n",
      "Epoch 40/500\n",
      "66/66 [==============================] - 1s 8ms/step - loss: 8.4732e-04 - accuracy: 1.0000 - val_loss: 0.2057 - val_accuracy: 0.9545\n",
      "Epoch 41/500\n",
      "66/66 [==============================] - 1s 8ms/step - loss: 9.3275e-04 - accuracy: 1.0000 - val_loss: 0.2046 - val_accuracy: 0.9545\n",
      "Epoch 42/500\n",
      "66/66 [==============================] - 1s 8ms/step - loss: 9.0545e-04 - accuracy: 1.0000 - val_loss: 0.2051 - val_accuracy: 0.9545\n"
     ]
    }
   ],
   "source": [
    "callbacks = [tf.keras.callbacks.ReduceLROnPlateau(monitor='val_accuracy', factor=0.1, patience=7, verbose=1, min_delta=1e-4, mode='max')]\n",
    "\n",
    "callbacks.append(tf.keras.callbacks.EarlyStopping(monitor='val_accuracy', patience=20, verbose=0, restore_best_weights=True))\n",
    "\n",
    "\n",
    "history = model.fit(X_train, y_train, epochs=500,\n",
    "                    validation_split=0.05,\n",
    "                    callbacks=callbacks\n",
    "                   )"
   ]
  },
  {
   "cell_type": "markdown",
   "metadata": {},
   "source": [
    "## VALIDANDO DE FORMA MAIS ELABORADA"
   ]
  },
  {
   "cell_type": "code",
   "execution_count": 15,
   "metadata": {},
   "outputs": [
    {
     "data": {
      "image/png": "[encoded data removed]",
      "text/plain": [
       "<Figure size 800x500 with 1 Axes>"
      ]
     },
     "metadata": {},
     "output_type": "display_data"
    }
   ],
   "source": [
    "pd.DataFrame(history.history).plot(figsize=(8, 5))\n",
    "plt.grid(True)\n",
    "plt.gca().set_ylim(0, 1) # set the vertical range to [0-1]\n",
    "plt.xlabel('epocas')\n",
    "plt.xlabel('metricas')\n",
    "plt.show()"
   ]
  },
  {
   "cell_type": "code",
   "execution_count": 16,
   "metadata": {},
   "outputs": [
    {
     "name": "stdout",
     "output_type": "stream",
     "text": [
      "18/18 [==============================] - 0s 5ms/step - loss: 0.0633 - accuracy: 0.9726\n"
     ]
    },
    {
     "data": {
      "text/plain": [
       "[0.06331516057252884, 0.9726277589797974]"
      ]
     },
     "execution_count": 16,
     "metadata": {},
     "output_type": "execute_result"
    }
   ],
   "source": [
    "model.evaluate(X_test, y_test)"
   ]
  },
  {
   "cell_type": "markdown",
   "metadata": {},
   "source": [
    "## VISUALIZANDO A MATRIZ DE CONFUSÃO"
   ]
  },
  {
   "cell_type": "code",
   "execution_count": 17,
   "metadata": {},
   "outputs": [
    {
     "data": {
      "image/png": "[encoded data removed]",
      "text/plain": [
       "<Figure size 3000x1500 with 2 Axes>"
      ]
     },
     "metadata": {},
     "output_type": "display_data"
    }
   ],
   "source": [
    "cm = confusion_matrix(y_test,np.argmax(model.predict(X_test), axis=-1))\n",
    "\n",
    "disp = ConfusionMatrixDisplay(confusion_matrix=cm,\n",
    "                              display_labels=class_to_int)\n",
    "\n",
    "plt.rcParams['figure.figsize'] = [30, 15]\n",
    "\n",
    "disp.plot()\n",
    "\n",
    "plt.show()"
   ]
  }
 ],
 "metadata": {
  "kernelspec": {
   "display_name": "Python 3 (ipykernel)",
   "language": "python",
   "name": "python3"
  },
  "language_info": {
   "codemirror_mode": {
    "name": "ipython",
    "version": 3
   },
   "file_extension": ".py",
   "mimetype": "text/x-python",
   "name": "python",
   "nbconvert_exporter": "python",
   "pygments_lexer": "ipython3",
   "version": "3.8.13"
  }
 },
 "nbformat": 4,
 "nbformat_minor": 4
}
